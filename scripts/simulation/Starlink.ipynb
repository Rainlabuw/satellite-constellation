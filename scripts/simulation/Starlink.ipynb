{
  "cells": [
    {
      "cell_type": "code",
      "execution_count": null,
      "metadata": {
        "colab": {
          "base_uri": "https://localhost:8080/"
        },
        "id": "go1dk_rWyjNZ",
        "outputId": "6aac8575-2d0b-41c4-a010-7fad40f3880f"
      },
      "outputs": [
        {
          "name": "stdout",
          "output_type": "stream",
          "text": [
            "Looking in indexes: https://pypi.org/simple, https://us-python.pkg.dev/colab-wheels/public/simple/\n",
            "Collecting pyorbital\n",
            "  Downloading pyorbital-1.7.3.tar.gz (75 kB)\n",
            "\u001b[2K     \u001b[90m━━━━━━━━━━━━━━━━━━━━━━━━━━━━━━━━━━━━━━━━\u001b[0m \u001b[32m75.3/75.3 kB\u001b[0m \u001b[31m4.9 MB/s\u001b[0m eta \u001b[36m0:00:00\u001b[0m\n",
            "\u001b[?25h  Preparing metadata (setup.py) ... \u001b[?25l\u001b[?25hdone\n",
            "Requirement already satisfied: numpy>=1.19.0 in /usr/local/lib/python3.10/dist-packages (from pyorbital) (1.22.4)\n",
            "Requirement already satisfied: scipy in /usr/local/lib/python3.10/dist-packages (from pyorbital) (1.10.1)\n",
            "Requirement already satisfied: requests in /usr/local/lib/python3.10/dist-packages (from pyorbital) (2.27.1)\n",
            "Requirement already satisfied: urllib3<1.27,>=1.21.1 in /usr/local/lib/python3.10/dist-packages (from requests->pyorbital) (1.26.15)\n",
            "Requirement already satisfied: certifi>=2017.4.17 in /usr/local/lib/python3.10/dist-packages (from requests->pyorbital) (2022.12.7)\n",
            "Requirement already satisfied: charset-normalizer~=2.0.0 in /usr/local/lib/python3.10/dist-packages (from requests->pyorbital) (2.0.12)\n",
            "Requirement already satisfied: idna<4,>=2.5 in /usr/local/lib/python3.10/dist-packages (from requests->pyorbital) (3.4)\n",
            "Building wheels for collected packages: pyorbital\n",
            "  Building wheel for pyorbital (setup.py) ... \u001b[?25l\u001b[?25hdone\n",
            "  Created wheel for pyorbital: filename=pyorbital-1.7.3-py2.py3-none-any.whl size=62444 sha256=940780c1f3052578f0a789e3a109acdf373434256ca43e920608cbf91689fe8b\n",
            "  Stored in directory: /root/.cache/pip/wheels/76/01/59/ceaeb748bcd6594db154f4ffa6fa56b02466a8e1a051a95d51\n",
            "Successfully built pyorbital\n",
            "Installing collected packages: pyorbital\n",
            "Successfully installed pyorbital-1.7.3\n"
          ]
        }
      ],
      "source": [
        "#Used for processing date from TLE\n",
        "pip install pyorbital\n"
      ]
    },
    {
      "cell_type": "code",
      "execution_count": null,
      "metadata": {
        "colab": {
          "base_uri": "https://localhost:8080/"
        },
        "collapsed": true,
        "id": "Ck6QmVfyzdf0",
        "outputId": "df768801-94a8-454e-fc8c-5e82b79dc428"
      },
      "outputs": [
        {
          "name": "stdout",
          "output_type": "stream",
          "text": [
            "Looking in indexes: https://pypi.org/simple, https://us-python.pkg.dev/colab-wheels/public/simple/\n",
            "Collecting ipython-autotime\n",
            "  Downloading ipython_autotime-0.3.1-py2.py3-none-any.whl (6.8 kB)\n",
            "Requirement already satisfied: ipython in /usr/local/lib/python3.10/dist-packages (from ipython-autotime) (7.34.0)\n",
            "Requirement already satisfied: setuptools>=18.5 in /usr/local/lib/python3.10/dist-packages (from ipython->ipython-autotime) (67.7.2)\n",
            "Collecting jedi>=0.16 (from ipython->ipython-autotime)\n",
            "  Downloading jedi-0.18.2-py2.py3-none-any.whl (1.6 MB)\n",
            "\u001b[2K     \u001b[90m━━━━━━━━━━━━━━━━━━━━━━━━━━━━━━━━━━━━━━━━\u001b[0m \u001b[32m1.6/1.6 MB\u001b[0m \u001b[31m31.5 MB/s\u001b[0m eta \u001b[36m0:00:00\u001b[0m\n",
            "\u001b[?25hRequirement already satisfied: decorator in /usr/local/lib/python3.10/dist-packages (from ipython->ipython-autotime) (4.4.2)\n",
            "Requirement already satisfied: pickleshare in /usr/local/lib/python3.10/dist-packages (from ipython->ipython-autotime) (0.7.5)\n",
            "Requirement already satisfied: traitlets>=4.2 in /usr/local/lib/python3.10/dist-packages (from ipython->ipython-autotime) (5.7.1)\n",
            "Requirement already satisfied: prompt-toolkit!=3.0.0,!=3.0.1,<3.1.0,>=2.0.0 in /usr/local/lib/python3.10/dist-packages (from ipython->ipython-autotime) (3.0.38)\n",
            "Requirement already satisfied: pygments in /usr/local/lib/python3.10/dist-packages (from ipython->ipython-autotime) (2.14.0)\n",
            "Requirement already satisfied: backcall in /usr/local/lib/python3.10/dist-packages (from ipython->ipython-autotime) (0.2.0)\n",
            "Requirement already satisfied: matplotlib-inline in /usr/local/lib/python3.10/dist-packages (from ipython->ipython-autotime) (0.1.6)\n",
            "Requirement already satisfied: pexpect>4.3 in /usr/local/lib/python3.10/dist-packages (from ipython->ipython-autotime) (4.8.0)\n",
            "Requirement already satisfied: parso<0.9.0,>=0.8.0 in /usr/local/lib/python3.10/dist-packages (from jedi>=0.16->ipython->ipython-autotime) (0.8.3)\n",
            "Requirement already satisfied: ptyprocess>=0.5 in /usr/local/lib/python3.10/dist-packages (from pexpect>4.3->ipython->ipython-autotime) (0.7.0)\n",
            "Requirement already satisfied: wcwidth in /usr/local/lib/python3.10/dist-packages (from prompt-toolkit!=3.0.0,!=3.0.1,<3.1.0,>=2.0.0->ipython->ipython-autotime) (0.2.6)\n",
            "Installing collected packages: jedi, ipython-autotime\n",
            "Successfully installed ipython-autotime-0.3.1 jedi-0.18.2\n",
            "time: 367 µs (started: 2023-06-22 01:03:57 +00:00)\n"
          ]
        }
      ],
      "source": [
        "#Only used to show the time each block took to process, tracking performance \n",
        "!pip install ipython-autotime\n",
        "%load_ext autotime"
      ]
    },
    {
      "cell_type": "code",
      "execution_count": null,
      "metadata": {
        "colab": {
          "base_uri": "https://localhost:8080/"
        },
        "id": "QspAx3UD1EUI",
        "outputId": "ec5f2e51-0aaf-4204-e092-db53c7c00306"
      },
      "outputs": [
        {
          "name": "stdout",
          "output_type": "stream",
          "text": [
            "time: 3.69 s (started: 2023-06-22 01:03:57 +00:00)\n"
          ]
        }
      ],
      "source": [
        "import jax.numpy as jnp\n",
        "import jax\n",
        "from pyorbital.orbital import Orbital\n",
        "from datetime import datetime,timedelta\n",
        "import numpy as np"
      ]
    },
    {
      "cell_type": "code",
      "execution_count": null,
      "metadata": {
        "colab": {
          "base_uri": "https://localhost:8080/"
        },
        "id": "voDHohmAP8o6",
        "outputId": "7a734ff7-1fad-4dfd-b2d2-71d21d0ec646"
      },
      "outputs": [
        {
          "name": "stdout",
          "output_type": "stream",
          "text": [
            "Mounted at /content/drive\n",
            "time: 21.1 s (started: 2023-06-15 01:12:33 +00:00)\n"
          ]
        }
      ],
      "source": [
        "#Mounting your goole drive, the TLE file should be uploaded to the Drive so this code can read\n",
        "from google.colab import drive\n",
        "drive.mount('/content/drive')"
      ]
    },
    {
      "cell_type": "code",
      "execution_count": null,
      "metadata": {
        "colab": {
          "base_uri": "https://localhost:8080/",
          "height": 190
        },
        "id": "h9yxXFooymXW",
        "outputId": "ffb8b03d-b8da-4b65-fbce-717203a7db27"
      },
      "outputs": [
        {
          "ename": "NameError",
          "evalue": "ignored",
          "output_type": "error",
          "traceback": [
            "\u001b[0;31m---------------------------------------------------------------------------\u001b[0m",
            "\u001b[0;31mNameError\u001b[0m                                 Traceback (most recent call last)",
            "\u001b[0;32m<ipython-input-156-29d58c00bf8e>\u001b[0m in \u001b[0;36m<cell line: 1>\u001b[0;34m()\u001b[0m\n\u001b[0;32m----> 1\u001b[0;31m \u001b[0mcontent\u001b[0m\u001b[0;34m/\u001b[0m\u001b[0mdrive\u001b[0m\u001b[0;34m/\u001b[0m\u001b[0mMyDrive\u001b[0m\u001b[0;34m/\u001b[0m\u001b[0mJupyter\u001b[0m\u001b[0;34m/\u001b[0m\u001b[0mstarlink\u001b[0m\u001b[0;34m/\u001b[0m\u001b[0mstarlink_short\u001b[0m\u001b[0;34m.\u001b[0m\u001b[0mtxt\u001b[0m\u001b[0;34m(\u001b[0m\u001b[0;34m)\u001b[0m\u001b[0;34m\u001b[0m\u001b[0;34m\u001b[0m\u001b[0m\n\u001b[0m",
            "\u001b[0;31mNameError\u001b[0m: name 'content' is not defined"
          ]
        },
        {
          "name": "stdout",
          "output_type": "stream",
          "text": [
            "time: 171 ms (started: 2023-05-26 20:55:48 +00:00)\n"
          ]
        }
      ],
      "source": [
        "#/content/drive/MyDrive/Jupyter/starlink/starlink_short.txt"
      ]
    },
    {
      "cell_type": "code",
      "execution_count": null,
      "metadata": {
        "colab": {
          "base_uri": "https://localhost:8080/"
        },
        "id": "9Y5r4sEZzzLV",
        "outputId": "1dfd59a2-2104-45fc-de5e-47245cb26d71"
      },
      "outputs": [
        {
          "name": "stdout",
          "output_type": "stream",
          "text": [
            "time: 1.24 ms (started: 2023-06-15 01:12:54 +00:00)\n"
          ]
        }
      ],
      "source": [
        "#Getting the euclidean orbit\n",
        "@jax.jit\n",
        "def convert_ecf(lat, lon, alt):\n",
        "    alt = alt * 1000\n",
        "    lat = lat * (np.pi / 180)\n",
        "    lon = lon * (np.pi / 180)\n",
        "    e = 0.003353\n",
        "    R = 6378100 / jnp.sqrt(1 - (e**2) * (jnp.sin(lat))**2)\n",
        "    x = (R + alt) * jnp.cos(lat) * jnp.cos(lon)\n",
        "    y = (R + alt) * jnp.cos(lat) * jnp.sin(lon)\n",
        "    z = ((1 - e**2) * R + alt) * jnp.sin(lat)\n",
        "    return x, y, z"
      ]
    },
    {
      "cell_type": "code",
      "execution_count": null,
      "metadata": {
        "colab": {
          "base_uri": "https://localhost:8080/"
        },
        "id": "3bwLnhn9-C0i",
        "outputId": "c2ed7b72-1235-4b37-a364-6da71ac96444"
      },
      "outputs": [
        {
          "name": "stdout",
          "output_type": "stream",
          "text": [
            "time: 5.49 ms (started: 2023-06-15 01:12:54 +00:00)\n"
          ]
        }
      ],
      "source": [
        "#Return all satellite within range, the range is set below\n",
        "@jax.jit\n",
        "def true_fn(x):\n",
        "    return x\n",
        "@jax.jit\n",
        "def false_fn(x):\n",
        "    return 0.0\n",
        "@jax.jit\n",
        "def distance(obs, tar):\n",
        "    obs_x, obs_y, obs_z = obs[0], obs[1], obs[2]\n",
        "    tar_x, tar_y, tar_z = tar[0], tar[1], tar[2]\n",
        "    zero = 0\n",
        "    length = jnp.sqrt((obs_x - tar_x)**2 + (obs_y - tar_y)**2 +\n",
        "                      (obs_z - tar_z)**2) / 1000\n",
        "    # if length < 5016:\n",
        "    #   return length\n",
        "    # else:\n",
        "    #   return zero\n",
        "\n",
        "    #The range is set here, in the condition, in Km\n",
        "    return jax.lax.cond(length < 606, true_fn, false_fn, length)\n",
        "    #return jnp.sqrt((obs_x-tar_x)**2+(obs_y-tar_y)**2+(obs_z-tar_z)**2)/1000"
      ]
    },
    {
      "cell_type": "code",
      "execution_count": null,
      "metadata": {
        "colab": {
          "base_uri": "https://localhost:8080/"
        },
        "id": "vmoV8G5ozNup",
        "outputId": "1d69fd2e-0cb1-4170-bb53-3b6c60f5fa83"
      },
      "outputs": [
        {
          "name": "stdout",
          "output_type": "stream",
          "text": [
            "time: 53.9 s (started: 2023-06-15 01:13:00 +00:00)\n"
          ]
        }
      ],
      "source": [
        "#Obtatin a matrix contain the position of all the satellite at time_now, return a pos_list\n",
        "name_list = []\n",
        "connection_conunt = {}\n",
        "line_count = 0\n",
        "count = 0\n",
        "with open('Change path to your TLE file location') as file:\n",
        "    for line in file:\n",
        "        striped_line = line.rstrip()\n",
        "        if line_count == 0:\n",
        "            name = striped_line\n",
        "            if name[:8] == \"STARLINK\":\n",
        "                name_list.append(name)\n",
        "                connection_conunt[name] = 0\n",
        "                count += 1\n",
        "        line_count += 1\n",
        "        if line_count == 3:\n",
        "            line_count = 0\n",
        "pos_list = []\n",
        "pos_list_plus_t = []\n",
        "time_now = datetime.utcnow()\n",
        "time_plus_x = time_now + timedelta(minutes=2)\n",
        "length = len(name_list)\n",
        "for i in range(length):\n",
        "    sat = Orbital(\n",
        "        name_list[i],\n",
        "        tle_file='Change path to your TLE file location')\n",
        "    #print(name_list[i])\n",
        "    sat_lon, sat_lat, sat_alt = sat.get_lonlatalt(time_now)\n",
        "    pos_list.append(convert_ecf(sat_lat, sat_lon, sat_alt))\n",
        "    sat_lon, sat_lat, sat_alt = sat.get_lonlatalt(time_plus_x)\n",
        "    pos_list_plus_t.append(convert_ecf(sat_lat, sat_lon, sat_alt))\n",
        "satellite_matrix = jnp.zeros((length, length))\n",
        "pos_list = jnp.asarray(pos_list)"
      ]
    },
    {
      "cell_type": "code",
      "execution_count": null,
      "metadata": {
        "colab": {
          "base_uri": "https://localhost:8080/"
        },
        "id": "9GY1Q7BpabrF",
        "outputId": "9b46b5a3-cf3e-4a12-fe06-8ed77f1871d8"
      },
      "outputs": [
        {
          "name": "stdout",
          "output_type": "stream",
          "text": [
            "time: 2.84 s (started: 2023-06-15 01:13:55 +00:00)\n"
          ]
        }
      ],
      "source": [
        "#Get a pos_matrix that contain the distance between all satellites \n",
        "from jax import vmap\n",
        "import jax.numpy as jnp\n",
        "from functools import partial\n",
        "\n",
        "\n",
        "def f1(x, y):\n",
        "    assert x[0].ndim == y[0].ndim == 0\n",
        "    assert x[1].ndim == y[1].ndim == 0\n",
        "    assert x[2].ndim == y[2].ndim == 0\n",
        "    return 0\n",
        "\n",
        "\n",
        "def f2(x, y):\n",
        "    assert x[0].ndim == y[0].ndim == 0\n",
        "    assert x[1].ndim == y[1].ndim == 0\n",
        "    assert x[2].ndim == y[2].ndim == 0\n",
        "    return distance(x, y)\n",
        "\n",
        "\n",
        "@partial(vmap, in_axes=(0, None))\n",
        "@partial(vmap, in_axes=(None, 0))\n",
        "def g(i, j):\n",
        "    return jnp.where(i == j, f1(pos_list[i], pos_list[j]),\n",
        "                     f2(pos_list[i], pos_list[j]))\n",
        "\n",
        "\n",
        "pos_matrix = g(jnp.arange(len(pos_list)), jnp.arange(len(pos_list)))"
      ]
    },
    {
      "cell_type": "code",
      "execution_count": null,
      "metadata": {
        "colab": {
          "base_uri": "https://localhost:8080/"
        },
        "id": "ThAQ9AI5NGtp",
        "outputId": "443ddc40-5ed2-4670-8458-4107a65dd839"
      },
      "outputs": [
        {
          "name": "stdout",
          "output_type": "stream",
          "text": [
            "time: 2.58 s (started: 2023-06-15 01:13:58 +00:00)\n"
          ]
        }
      ],
      "source": [
        "#c_matrix is the connectivity matirx, the function assign neighbor satellite row by row, \n",
        "#one satellite can only connect to at max 4 satellites, so it means each row and column contain at most 4 1's\n",
        "def scan_fun(count, row):\n",
        "    row = jnp.where(count >= 4, 0, row)\n",
        "    _, indices = jax.lax.top_k(row, 4)\n",
        "    c_row = jnp.zeros_like(row).at[indices].set(1)\n",
        "    c_row = jnp.where(row == 0, 0, c_row)\n",
        "    count += (c_row > 0)\n",
        "    return count, c_row\n",
        "\n",
        "\n",
        "_, c_matrix = jax.lax.scan(scan_fun, jnp.zeros_like(pos_matrix[0]), pos_matrix)"
      ]
    },
    {
      "cell_type": "code",
      "execution_count": null,
      "metadata": {
        "colab": {
          "base_uri": "https://localhost:8080/"
        },
        "id": "jq_37mYHq7hv",
        "outputId": "d89898d5-db97-4bbf-d3c7-35e48ddddc62"
      },
      "outputs": [
        {
          "name": "stdout",
          "output_type": "stream",
          "text": [
            "time: 938 µs (started: 2023-06-22 01:05:05 +00:00)\n"
          ]
        }
      ],
      "source": [
        "#Converting distance and hardware design to data rates in bps\n",
        "def get_datarate(distance):\n",
        "  d = distance*1000 #distance between two satellite in meter\n",
        "  k = 1.38e-23 #boltzman constant\n",
        "  t = 250 # temperture in k\n",
        "  n0 = k*t\n",
        "  dia = 0.25 # diameter for antenna in meter\n",
        "  wl = 1550e-9 # Wavelength in meter\n",
        "  pt = -10 #dbw\n",
        "  eff_fact = 0.65 # efficiency factor of  antenna\n",
        "  gi = 10*jnp.log10(eff_fact*((jnp.pi*dia)/wl)**2) # Gain for receive and transimit\n",
        "  fspl = 20*jnp.log10((4*jnp.pi*d)/wl) + 50\n",
        "  pr = pt + gi+gi - fspl\n",
        "  pr_dbwatt = 10**(pr/10) #pr dbw to watt\n",
        "  Rb = ((pr_dbwatt)/(n0))/(10**(12/10))#data rate in bps\n",
        "  return int(Rb)"
      ]
    },
    {
      "cell_type": "code",
      "execution_count": null,
      "metadata": {
        "id": "q2JvPJCqipZj"
      },
      "outputs": [],
      "source": [
        "4*jnp.pi*d)/wl"
      ]
    },
    {
      "cell_type": "code",
      "execution_count": null,
      "metadata": {
        "colab": {
          "base_uri": "https://localhost:8080/"
        },
        "id": "yrd270jzXOjH",
        "outputId": "395b44fd-9019-40b1-a4ff-564ae551301a"
      },
      "outputs": [
        {
          "data": {
            "text/plain": [
              "21.102725120000002"
            ]
          },
          "execution_count": 19,
          "metadata": {},
          "output_type": "execute_result"
        },
        {
          "name": "stdout",
          "output_type": "stream",
          "text": [
            "time: 6.35 ms (started: 2023-06-22 01:12:41 +00:00)\n"
          ]
        }
      ],
      "source": [
        "get_datarate(606)*1e-9"
      ]
    },
    {
      "cell_type": "code",
      "execution_count": null,
      "metadata": {
        "colab": {
          "base_uri": "https://localhost:8080/"
        },
        "id": "BPsXUFpGXg6g",
        "outputId": "61b6b354-23fd-4cd9-c0d8-b91411b63265"
      },
      "outputs": [
        {
          "name": "stdout",
          "output_type": "stream",
          "text": [
            "time: 3min 5s (started: 2023-06-15 01:14:00 +00:00)\n"
          ]
        }
      ],
      "source": [
        "#Put all the adjenct satellite into a graph, the edges = distance/speed of light, \n",
        "#the capacity is the data rate between them using ISL\n",
        "import networkx as nx\n",
        "G = nx.DiGraph()\n",
        "for i in range(length):\n",
        "  indices = jnp.flatnonzero(c_matrix[i])\n",
        "  if jnp.size(indices) !=0:\n",
        "    for j in indices:\n",
        "      distance = int(pos_matrix[i,j])\n",
        "      G.add_edge(i, int(j),weight= round(pos_matrix[i,int(j)]/3e5*1000,2)\n",
        "      ,capacity=get_datarate(distance))"
      ]
    },
    {
      "cell_type": "code",
      "execution_count": null,
      "metadata": {
        "colab": {
          "base_uri": "https://localhost:8080/",
          "height": 329
        },
        "id": "CYZFebglf7V0",
        "outputId": "6b63029c-b7c3-4d3c-b713-4535f52e7ffe"
      },
      "outputs": [
        {
          "ename": "NetworkXNotImplemented",
          "evalue": "ignored",
          "output_type": "error",
          "traceback": [
            "\u001b[0;31m---------------------------------------------------------------------------\u001b[0m",
            "\u001b[0;31mNetworkXNotImplemented\u001b[0m                    Traceback (most recent call last)",
            "\u001b[0;32m<ipython-input-43-f7ef2783a6a3>\u001b[0m in \u001b[0;36m<cell line: 1>\u001b[0;34m()\u001b[0m\n\u001b[0;32m----> 1\u001b[0;31m \u001b[0mnx\u001b[0m\u001b[0;34m.\u001b[0m\u001b[0malgebraic_connectivity\u001b[0m\u001b[0;34m(\u001b[0m\u001b[0mG\u001b[0m\u001b[0;34m)\u001b[0m\u001b[0;34m\u001b[0m\u001b[0;34m\u001b[0m\u001b[0m\n\u001b[0m",
            "\u001b[0;32m/usr/local/lib/python3.10/dist-packages/networkx/utils/decorators.py\u001b[0m in \u001b[0;36mfunc\u001b[0;34m(_argmap__wrapper, *args, **kwargs)\u001b[0m\n\u001b[1;32m    764\u001b[0m \u001b[0;34m\u001b[0m\u001b[0m\n\u001b[1;32m    765\u001b[0m         \u001b[0;32mdef\u001b[0m \u001b[0mfunc\u001b[0m\u001b[0;34m(\u001b[0m\u001b[0;34m*\u001b[0m\u001b[0margs\u001b[0m\u001b[0;34m,\u001b[0m \u001b[0m__wrapper\u001b[0m\u001b[0;34m=\u001b[0m\u001b[0;32mNone\u001b[0m\u001b[0;34m,\u001b[0m \u001b[0;34m**\u001b[0m\u001b[0mkwargs\u001b[0m\u001b[0;34m)\u001b[0m\u001b[0;34m:\u001b[0m\u001b[0;34m\u001b[0m\u001b[0;34m\u001b[0m\u001b[0m\n\u001b[0;32m--> 766\u001b[0;31m             \u001b[0;32mreturn\u001b[0m \u001b[0margmap\u001b[0m\u001b[0;34m.\u001b[0m\u001b[0m_lazy_compile\u001b[0m\u001b[0;34m(\u001b[0m\u001b[0m__wrapper\u001b[0m\u001b[0;34m)\u001b[0m\u001b[0;34m(\u001b[0m\u001b[0;34m*\u001b[0m\u001b[0margs\u001b[0m\u001b[0;34m,\u001b[0m \u001b[0;34m**\u001b[0m\u001b[0mkwargs\u001b[0m\u001b[0;34m)\u001b[0m\u001b[0;34m\u001b[0m\u001b[0;34m\u001b[0m\u001b[0m\n\u001b[0m\u001b[1;32m    767\u001b[0m \u001b[0;34m\u001b[0m\u001b[0m\n\u001b[1;32m    768\u001b[0m         \u001b[0;31m# standard function-wrapping stuff\u001b[0m\u001b[0;34m\u001b[0m\u001b[0;34m\u001b[0m\u001b[0m\n",
            "\u001b[0;32m/usr/local/lib/python3.10/dist-packages/networkx/utils/decorators.py\u001b[0m in \u001b[0;36margmap_algebraic_connectivity_17\u001b[0;34m(G, weight, normalized, tol, method, seed)\u001b[0m\n\u001b[1;32m      1\u001b[0m \u001b[0;32mimport\u001b[0m \u001b[0mbz2\u001b[0m\u001b[0;34m\u001b[0m\u001b[0;34m\u001b[0m\u001b[0m\n\u001b[1;32m      2\u001b[0m \u001b[0;32mimport\u001b[0m \u001b[0mcollections\u001b[0m\u001b[0;34m\u001b[0m\u001b[0;34m\u001b[0m\u001b[0m\n\u001b[0;32m----> 3\u001b[0;31m \u001b[0;32mimport\u001b[0m \u001b[0mgzip\u001b[0m\u001b[0;34m\u001b[0m\u001b[0;34m\u001b[0m\u001b[0m\n\u001b[0m\u001b[1;32m      4\u001b[0m \u001b[0;32mimport\u001b[0m \u001b[0minspect\u001b[0m\u001b[0;34m\u001b[0m\u001b[0;34m\u001b[0m\u001b[0m\n\u001b[1;32m      5\u001b[0m \u001b[0;32mimport\u001b[0m \u001b[0mitertools\u001b[0m\u001b[0;34m\u001b[0m\u001b[0;34m\u001b[0m\u001b[0m\n",
            "\u001b[0;32m/usr/local/lib/python3.10/dist-packages/networkx/utils/decorators.py\u001b[0m in \u001b[0;36m_not_implemented_for\u001b[0;34m(g)\u001b[0m\n\u001b[1;32m     84\u001b[0m             \u001b[0mdval\u001b[0m \u001b[0;32mis\u001b[0m \u001b[0;32mNone\u001b[0m \u001b[0;32mor\u001b[0m \u001b[0mdval\u001b[0m \u001b[0;34m==\u001b[0m \u001b[0mg\u001b[0m\u001b[0;34m.\u001b[0m\u001b[0mis_directed\u001b[0m\u001b[0;34m(\u001b[0m\u001b[0;34m)\u001b[0m\u001b[0;34m\u001b[0m\u001b[0;34m\u001b[0m\u001b[0m\n\u001b[1;32m     85\u001b[0m         ):\n\u001b[0;32m---> 86\u001b[0;31m             \u001b[0;32mraise\u001b[0m \u001b[0mnx\u001b[0m\u001b[0;34m.\u001b[0m\u001b[0mNetworkXNotImplemented\u001b[0m\u001b[0;34m(\u001b[0m\u001b[0merrmsg\u001b[0m\u001b[0;34m)\u001b[0m\u001b[0;34m\u001b[0m\u001b[0;34m\u001b[0m\u001b[0m\n\u001b[0m\u001b[1;32m     87\u001b[0m \u001b[0;34m\u001b[0m\u001b[0m\n\u001b[1;32m     88\u001b[0m         \u001b[0;32mreturn\u001b[0m \u001b[0mg\u001b[0m\u001b[0;34m\u001b[0m\u001b[0;34m\u001b[0m\u001b[0m\n",
            "\u001b[0;31mNetworkXNotImplemented\u001b[0m: not implemented for directed type"
          ]
        },
        {
          "name": "stdout",
          "output_type": "stream",
          "text": [
            "time: 21.5 ms (started: 2023-05-26 23:58:23 +00:00)\n"
          ]
        }
      ],
      "source": [
        "#Getting the connectivity of the graph\n",
        "nx.algebraic_connectivity(G)"
      ]
    },
    {
      "cell_type": "code",
      "execution_count": null,
      "metadata": {
        "colab": {
          "base_uri": "https://localhost:8080/"
        },
        "id": "P1P6H8BNDINM",
        "outputId": "827f43b9-3794-4f86-b4c6-576b4696f69e"
      },
      "outputs": [
        {
          "name": "stdout",
          "output_type": "stream",
          "text": [
            "time: 664 µs (started: 2023-06-15 01:17:06 +00:00)\n"
          ]
        }
      ],
      "source": [
        "#NY to Syn\n",
        "source = name_list.index(\"STARLINK-1688\")\n",
        "sink = name_list.index(\"STARLINK-3389\")"
      ]
    },
    {
      "cell_type": "code",
      "execution_count": null,
      "metadata": {
        "colab": {
          "base_uri": "https://localhost:8080/"
        },
        "id": "dkCOn_nlQ5pc",
        "outputId": "e8381519-5775-49fc-e7cf-611390f04772"
      },
      "outputs": [
        {
          "name": "stdout",
          "output_type": "stream",
          "text": [
            "time: 791 µs (started: 2023-06-14 23:36:55 +00:00)\n"
          ]
        }
      ],
      "source": [
        "#NY to Lon\n",
        "source = name_list.index(\"STARLINK-2286\")\n",
        "sink = name_list.index(\"STARLINK-5155\")"
      ]
    },
    {
      "cell_type": "code",
      "execution_count": null,
      "metadata": {
        "colab": {
          "base_uri": "https://localhost:8080/"
        },
        "id": "T61qqU_-_1oj",
        "outputId": "fc37b60a-fb14-47f9-d820-10ac5f87755f"
      },
      "outputs": [
        {
          "data": {
            "text/plain": [
              "True"
            ]
          },
          "execution_count": 14,
          "metadata": {},
          "output_type": "execute_result"
        },
        {
          "name": "stdout",
          "output_type": "stream",
          "text": [
            "time: 7.92 ms (started: 2023-06-15 01:17:06 +00:00)\n"
          ]
        }
      ],
      "source": [
        "#Check if path exist between target and source\n",
        "nx.has_path(G,source,sink)"
      ]
    },
    {
      "cell_type": "code",
      "execution_count": null,
      "metadata": {
        "colab": {
          "base_uri": "https://localhost:8080/"
        },
        "id": "nYjSy400Rc8X",
        "outputId": "40054628-c580-4fe7-84cb-5cd99e227a0e"
      },
      "outputs": [
        {
          "data": {
            "text/plain": [
              "49"
            ]
          },
          "execution_count": 15,
          "metadata": {},
          "output_type": "execute_result"
        },
        {
          "name": "stdout",
          "output_type": "stream",
          "text": [
            "time: 14.6 s (started: 2023-06-15 01:17:07 +00:00)\n"
          ]
        }
      ],
      "source": [
        "#Test\n",
        "short_path = nx.shortest_path(G,source,sink,weight = 'weight',method='dijkstra')\n",
        "len(short_path)"
      ]
    },
    {
      "cell_type": "code",
      "execution_count": null,
      "metadata": {
        "colab": {
          "base_uri": "https://localhost:8080/"
        },
        "id": "iDRudfj6RtEA",
        "outputId": "a28106b5-3a62-40d4-d2bb-e5099750f35e"
      },
      "outputs": [
        {
          "data": {
            "text/plain": [
              "Array(81.14999, dtype=float32)"
            ]
          },
          "execution_count": 16,
          "metadata": {},
          "output_type": "execute_result"
        },
        {
          "name": "stdout",
          "output_type": "stream",
          "text": [
            "time: 10.3 ms (started: 2023-06-15 01:17:21 +00:00)\n"
          ]
        }
      ],
      "source": [
        "#Test\n",
        "nx.path_weight(G,short_path,weight = 'weight')"
      ]
    },
    {
      "cell_type": "code",
      "execution_count": null,
      "metadata": {
        "colab": {
          "base_uri": "https://localhost:8080/",
          "height": 364
        },
        "id": "T87VozH49HUb",
        "outputId": "b6128c71-39bc-42bd-c31c-b3aa6085ebfd"
      },
      "outputs": [
        {
          "ename": "KeyboardInterrupt",
          "evalue": "ignored",
          "output_type": "error",
          "traceback": [
            "\u001b[0;31m---------------------------------------------------------------------------\u001b[0m",
            "\u001b[0;31mKeyboardInterrupt\u001b[0m                         Traceback (most recent call last)",
            "\u001b[0;32m<ipython-input-17-fa4ec1fe49db>\u001b[0m in \u001b[0;36m<cell line: 1>\u001b[0;34m()\u001b[0m\n\u001b[1;32m      2\u001b[0m   \u001b[0mG\u001b[0m\u001b[0;34m.\u001b[0m\u001b[0madd_node\u001b[0m\u001b[0;34m(\u001b[0m\u001b[0msource\u001b[0m\u001b[0;34m,\u001b[0m \u001b[0mdemand\u001b[0m\u001b[0;34m=\u001b[0m\u001b[0;34m-\u001b[0m\u001b[0;36m100\u001b[0m\u001b[0;34m)\u001b[0m\u001b[0;34m\u001b[0m\u001b[0;34m\u001b[0m\u001b[0m\n\u001b[1;32m      3\u001b[0m   \u001b[0mG\u001b[0m\u001b[0;34m.\u001b[0m\u001b[0madd_node\u001b[0m\u001b[0;34m(\u001b[0m\u001b[0msink\u001b[0m\u001b[0;34m,\u001b[0m \u001b[0mdemand\u001b[0m\u001b[0;34m=\u001b[0m \u001b[0;36m100\u001b[0m\u001b[0;34m)\u001b[0m\u001b[0;34m\u001b[0m\u001b[0;34m\u001b[0m\u001b[0m\n\u001b[0;32m----> 4\u001b[0;31m   \u001b[0mflowCost\u001b[0m\u001b[0;34m,\u001b[0m \u001b[0mflowDict\u001b[0m \u001b[0;34m=\u001b[0m \u001b[0mnx\u001b[0m\u001b[0;34m.\u001b[0m\u001b[0mcapacity_scaling\u001b[0m\u001b[0;34m(\u001b[0m\u001b[0mG\u001b[0m\u001b[0;34m)\u001b[0m\u001b[0;34m\u001b[0m\u001b[0;34m\u001b[0m\u001b[0m\n\u001b[0m",
            "\u001b[0;32m/usr/local/lib/python3.10/dist-packages/networkx/algorithms/flow/capacityscaling.py\u001b[0m in \u001b[0;36mcapacity_scaling\u001b[0;34m(G, demand, capacity, weight, heap)\u001b[0m\n\u001b[1;32m    309\u001b[0m                 \u001b[0;32mfor\u001b[0m \u001b[0mk\u001b[0m\u001b[0;34m,\u001b[0m \u001b[0me\u001b[0m \u001b[0;32min\u001b[0m \u001b[0mes\u001b[0m\u001b[0;34m.\u001b[0m\u001b[0mitems\u001b[0m\u001b[0;34m(\u001b[0m\u001b[0;34m)\u001b[0m\u001b[0;34m:\u001b[0m\u001b[0;34m\u001b[0m\u001b[0;34m\u001b[0m\u001b[0m\n\u001b[1;32m    310\u001b[0m                     \u001b[0mflow\u001b[0m \u001b[0;34m=\u001b[0m \u001b[0me\u001b[0m\u001b[0;34m[\u001b[0m\u001b[0;34m\"capacity\"\u001b[0m\u001b[0;34m]\u001b[0m \u001b[0;34m-\u001b[0m \u001b[0me\u001b[0m\u001b[0;34m[\u001b[0m\u001b[0;34m\"flow\"\u001b[0m\u001b[0;34m]\u001b[0m\u001b[0;34m\u001b[0m\u001b[0;34m\u001b[0m\u001b[0m\n\u001b[0;32m--> 311\u001b[0;31m                     \u001b[0;32mif\u001b[0m \u001b[0me\u001b[0m\u001b[0;34m[\u001b[0m\u001b[0;34m\"weight\"\u001b[0m\u001b[0;34m]\u001b[0m \u001b[0;34m-\u001b[0m \u001b[0mp_u\u001b[0m \u001b[0;34m+\u001b[0m \u001b[0mR_nodes\u001b[0m\u001b[0;34m[\u001b[0m\u001b[0mv\u001b[0m\u001b[0;34m]\u001b[0m\u001b[0;34m[\u001b[0m\u001b[0;34m\"potential\"\u001b[0m\u001b[0;34m]\u001b[0m \u001b[0;34m<\u001b[0m \u001b[0;36m0\u001b[0m\u001b[0;34m:\u001b[0m\u001b[0;34m\u001b[0m\u001b[0;34m\u001b[0m\u001b[0m\n\u001b[0m\u001b[1;32m    312\u001b[0m                         \u001b[0mflow\u001b[0m \u001b[0;34m=\u001b[0m \u001b[0me\u001b[0m\u001b[0;34m[\u001b[0m\u001b[0;34m\"capacity\"\u001b[0m\u001b[0;34m]\u001b[0m \u001b[0;34m-\u001b[0m \u001b[0me\u001b[0m\u001b[0;34m[\u001b[0m\u001b[0;34m\"flow\"\u001b[0m\u001b[0;34m]\u001b[0m\u001b[0;34m\u001b[0m\u001b[0;34m\u001b[0m\u001b[0m\n\u001b[1;32m    313\u001b[0m                         \u001b[0;32mif\u001b[0m \u001b[0mflow\u001b[0m \u001b[0;34m>=\u001b[0m \u001b[0mdelta\u001b[0m\u001b[0;34m:\u001b[0m\u001b[0;34m\u001b[0m\u001b[0;34m\u001b[0m\u001b[0m\n",
            "\u001b[0;32m/usr/local/lib/python3.10/dist-packages/jax/_src/numpy/array_methods.py\u001b[0m in \u001b[0;36mdeferring_binary_op\u001b[0;34m(self, other)\u001b[0m\n\u001b[1;32m    256\u001b[0m     \u001b[0margs\u001b[0m \u001b[0;34m=\u001b[0m \u001b[0;34m(\u001b[0m\u001b[0mother\u001b[0m\u001b[0;34m,\u001b[0m \u001b[0mself\u001b[0m\u001b[0;34m)\u001b[0m \u001b[0;32mif\u001b[0m \u001b[0mswap\u001b[0m \u001b[0;32melse\u001b[0m \u001b[0;34m(\u001b[0m\u001b[0mself\u001b[0m\u001b[0;34m,\u001b[0m \u001b[0mother\u001b[0m\u001b[0;34m)\u001b[0m\u001b[0;34m\u001b[0m\u001b[0;34m\u001b[0m\u001b[0m\n\u001b[1;32m    257\u001b[0m     \u001b[0;32mif\u001b[0m \u001b[0misinstance\u001b[0m\u001b[0;34m(\u001b[0m\u001b[0mother\u001b[0m\u001b[0;34m,\u001b[0m \u001b[0m_accepted_binop_types\u001b[0m\u001b[0;34m)\u001b[0m\u001b[0;34m:\u001b[0m\u001b[0;34m\u001b[0m\u001b[0;34m\u001b[0m\u001b[0m\n\u001b[0;32m--> 258\u001b[0;31m       \u001b[0;32mreturn\u001b[0m \u001b[0mbinary_op\u001b[0m\u001b[0;34m(\u001b[0m\u001b[0;34m*\u001b[0m\u001b[0margs\u001b[0m\u001b[0;34m)\u001b[0m\u001b[0;34m\u001b[0m\u001b[0;34m\u001b[0m\u001b[0m\n\u001b[0m\u001b[1;32m    259\u001b[0m     \u001b[0;32mif\u001b[0m \u001b[0misinstance\u001b[0m\u001b[0;34m(\u001b[0m\u001b[0mother\u001b[0m\u001b[0;34m,\u001b[0m \u001b[0m_rejected_binop_types\u001b[0m\u001b[0;34m)\u001b[0m\u001b[0;34m:\u001b[0m\u001b[0;34m\u001b[0m\u001b[0;34m\u001b[0m\u001b[0m\n\u001b[1;32m    260\u001b[0m       raise TypeError(f\"unsupported operand type(s) for {opchar}: \"\n",
            "\u001b[0;31mKeyboardInterrupt\u001b[0m: "
          ]
        },
        {
          "name": "stdout",
          "output_type": "stream",
          "text": [
            "time: 8min 42s (started: 2023-06-15 01:17:26 +00:00)\n"
          ]
        }
      ],
      "source": [
        "#If path exist, creat a super source and super sink\n",
        "if nx.has_path(G,source,sink):\n",
        "  G.add_node(source, demand=-100)\n",
        "  G.add_node(sink, demand= 100)\n",
        "  flowCost, flowDict = nx.capacity_scaling(G)\n"
      ]
    },
    {
      "cell_type": "code",
      "execution_count": null,
      "metadata": {
        "id": "F-Nex_YdAePv"
      },
      "outputs": [],
      "source": [
        "#Get the maxium flow between source and sink, also obtain the most costly path\n",
        "print(nx.maximum_flow(G,source,sink))\n",
        "path = ([ (u,v) for u in flowDict for v in flowDict[u] if flowDict[u][v]>0])\n",
        "F = nx.DiGraph(path)\n",
        "nx.has_path(F,source,sink)\n",
        "path_dict = {}\n",
        "for path in list(nx.all_shortest_paths(F, source, sink)):\n",
        "    weight = nx.path_weight(G,path,weight=\"weight\")\n",
        "    path_dict[len(path)] = weight"
      ]
    }
  ],
  "metadata": {
    "accelerator": "GPU",
    "colab": {
      "provenance": []
    },
    "gpuClass": "standard",
    "kernelspec": {
      "display_name": "Python 3 (ipykernel)",
      "language": "python",
      "name": "python3"
    },
    "language_info": {
      "codemirror_mode": {
        "name": "ipython",
        "version": 3
      },
      "file_extension": ".py",
      "mimetype": "text/x-python",
      "name": "python",
      "nbconvert_exporter": "python",
      "pygments_lexer": "ipython3",
      "version": "3.10.10"
    }
  },
  "nbformat": 4,
  "nbformat_minor": 0
}
